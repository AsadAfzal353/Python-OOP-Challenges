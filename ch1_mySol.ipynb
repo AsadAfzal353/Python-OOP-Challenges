{
 "cells": [
  {
   "cell_type": "code",
   "execution_count": 2,
   "metadata": {},
   "outputs": [
    {
     "name": "stdout",
     "output_type": "stream",
     "text": [
      "Hey there, my name is Alice\n",
      "I'm Bob and my age is 34\n",
      "Ay yo, Imma Carry\n",
      "Hi, I am is Donk\n"
     ]
    }
   ],
   "source": [
    "from random import choice\n",
    "\n",
    "class Student:\n",
    "     # class variables\n",
    "    educational_platform = \"Udemy\"\n",
    "\n",
    "    # instance variables\n",
    "    def __init__(self, name, age=34):\n",
    "        self.name = name\n",
    "        self.age = age\n",
    "    \n",
    "    # instance methods\n",
    "    def greet(self):\n",
    "        greetings = [f\"Hey there, my name is {self.name}\",\n",
    "                     f\"Hi, I am is {self.name}\",\n",
    "                     f\"I'm {self.name} and my age is {self.age}\",\n",
    "                     f\"Ay yo, Imma {self.name}\"]\n",
    "        greeting = choice(greetings)\n",
    "\n",
    "        return greeting\n",
    "\n",
    "# helper class function\n",
    "def create_class(names):\n",
    "    return [Student(name) for name in names]\n",
    "\n",
    "# Allows to restrict the execution of code when file runs\n",
    "# as a script, rather than imported as a module\n",
    "if __name__ == \"__main__\":\n",
    "    namelist = [\"Alice\", \"Bob\", \"Carry\", \"Donk\"]\n",
    "    for student in create_class(namelist):\n",
    "        print(student.greet())\n"
   ]
  },
  {
   "cell_type": "code",
   "execution_count": 3,
   "metadata": {},
   "outputs": [
    {
     "data": {
      "text/plain": [
       "'Hey there, my name is Alice'"
      ]
     },
     "execution_count": 3,
     "metadata": {},
     "output_type": "execute_result"
    }
   ],
   "source": [
    "s1 = Student(\"Alice\")\n",
    "s1.greet() # \"Hi, I'm Alice\""
   ]
  },
  {
   "cell_type": "code",
   "execution_count": 4,
   "metadata": {},
   "outputs": [
    {
     "name": "stdout",
     "output_type": "stream",
     "text": [
      "Hi, I am is Alice\n",
      "Ay yo, Imma Alice\n",
      "Hey there, my name is Alice\n",
      "I'm Alice and my age is 34\n"
     ]
    }
   ],
   "source": [
    "for i in range(4):\n",
    "    print(s1.greet())\n",
    "\n",
    "# Hey there, my name is Alice\n",
    "# Hey there, my name is Alice\n",
    "# Hi, I'm Alice\n",
    "# Hi. Oh, my name is Alice"
   ]
  },
  {
   "cell_type": "code",
   "execution_count": 5,
   "metadata": {},
   "outputs": [
    {
     "data": {
      "text/plain": [
       "34"
      ]
     },
     "execution_count": 5,
     "metadata": {},
     "output_type": "execute_result"
    }
   ],
   "source": [
    "s1.age # 34"
   ]
  },
  {
   "cell_type": "code",
   "execution_count": null,
   "metadata": {},
   "outputs": [],
   "source": []
  }
 ],
 "metadata": {
  "kernelspec": {
   "display_name": "base",
   "language": "python",
   "name": "python3"
  },
  "language_info": {
   "codemirror_mode": {
    "name": "ipython",
    "version": 3
   },
   "file_extension": ".py",
   "mimetype": "text/x-python",
   "name": "python",
   "nbconvert_exporter": "python",
   "pygments_lexer": "ipython3",
   "version": "3.10.9"
  },
  "orig_nbformat": 4
 },
 "nbformat": 4,
 "nbformat_minor": 2
}
