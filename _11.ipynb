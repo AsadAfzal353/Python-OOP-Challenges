{
 "cells": [
  {
   "cell_type": "code",
   "execution_count": 3,
   "metadata": {},
   "outputs": [],
   "source": [
    "class PlayingCard:\n",
    "    def __init__(self, suit, rank):\n",
    "        self.suit = suit.lower()\n",
    "        self.rank = rank.lower()\n",
    "    \n",
    "    def __eq__(self, other):\n",
    "        if not isinstance(other, self.__class__):\n",
    "            raise AttributeError(\"The instances cannot be compared\")\n",
    "        return self.suit == other.suit and self.rank == other.rank\n",
    "    \n",
    "    def __hash__(self):\n",
    "        return (self.suit, self.rank)\n",
    "    \n",
    "    def __repr__(self):\n",
    "        return f\"{self.__class__.__name__}(suit='{self.suit}', rank='{self.rank}')\"\n"
   ]
  },
  {
   "cell_type": "code",
   "execution_count": 8,
   "metadata": {},
   "outputs": [
    {
     "data": {
      "text/plain": [
       "False"
      ]
     },
     "execution_count": 8,
     "metadata": {},
     "output_type": "execute_result"
    }
   ],
   "source": [
    "class CardDeck:\n",
    "    SUITS = ['club', 'diamond', 'heart', 'spade']\n",
    "    RANKS = ['a', '2', '3', '4',\n",
    "            '5', '6', '7', '8',\n",
    "            '9', '10', 'j', 'q', 'k']\n",
    "    \n",
    "    def __init__(self):\n",
    "        pass\n",
    "\n",
    "    def _all_combinations(self):\n",
    "        for suit in self.SUITS:\n",
    "            for rank in self.RANKS:\n",
    "                PlayingCard(suit, rank)\n",
    "\n"
   ]
  },
  {
   "cell_type": "code",
   "execution_count": null,
   "metadata": {},
   "outputs": [],
   "source": [
    "cd = CardDeck()"
   ]
  }
 ],
 "metadata": {
  "kernelspec": {
   "display_name": "base",
   "language": "python",
   "name": "python3"
  },
  "language_info": {
   "codemirror_mode": {
    "name": "ipython",
    "version": 3
   },
   "file_extension": ".py",
   "mimetype": "text/x-python",
   "name": "python",
   "nbconvert_exporter": "python",
   "pygments_lexer": "ipython3",
   "version": "3.8.3"
  },
  "orig_nbformat": 4
 },
 "nbformat": 4,
 "nbformat_minor": 2
}
