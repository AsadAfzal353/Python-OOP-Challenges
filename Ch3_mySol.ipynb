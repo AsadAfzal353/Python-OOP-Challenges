{
 "cells": [
  {
   "cell_type": "code",
   "execution_count": 182,
   "metadata": {},
   "outputs": [],
   "source": [
    "class Contact:\n",
    "\n",
    "    def __init__(self, name, last_name, phone=None, email=None, display_mode=\"masked\"):\n",
    "        self.name = name\n",
    "        self.last_name = last_name\n",
    "        self.phone = phone\n",
    "        self.email = email\n",
    "        self.display_mode = display_mode\n",
    "    \n",
    "    # The trigger to the unmasked output can be through any formatting being done or the display\n",
    "    def __repr__(self):\n",
    "        if (self.display_mode == \"masked\"):\n",
    "            self.hideName()\n",
    "            return f\"Contact(name={self.name}, last_name={self.last_name})\"\n",
    "        else:\n",
    "            return f\"Contact(name={self.name}, last_name={self.last_name}, phone={self.phone}, email={self.email})\"\n",
    "            \n",
    "    def __format__(self, format_str):\n",
    "        if (format_str != None or self.display_mode != \"masked\"):\n",
    "            return f\"Contact(name={self.name}, last_name={self.last_name}, phone={self.phone}, email={self.email})\"\n",
    "        return self.__repr__()\n",
    "\n",
    "    def __str__(self):\n",
    "        return f\"{self.last_name[0]}{self.name[0]}\"\n",
    "    \n",
    "    def __eq__(self, other):\n",
    "        if not isinstance(other, Contact):\n",
    "            return False\n",
    "        \n",
    "        cond1 = (self.phone and self.phone == other.phone) or (self.email and self.email == other.email)            \n",
    "        cond2 = (self.name == other.name) and (self.last_name == other.last_name)\n",
    "        return (cond1 or cond2) \n",
    "    \n",
    "    def hideName(self):\n",
    "        count1 = 0\n",
    "        for i in self.name:\n",
    "            if (count1 > 1):\n",
    "                self.name = self.name.replace(i, \"*\")\n",
    "            count1 += 1\n",
    "        \n",
    "        count2 = 0\n",
    "        for j in self.last_name:\n",
    "            if (count2 > 1):\n",
    "                self.last_name = self.last_name.replace(j, \"*\")\n",
    "            count2 += 1\n",
    "\n",
    "        return self\n",
    "    "
   ]
  },
  {
   "cell_type": "code",
   "execution_count": 183,
   "metadata": {},
   "outputs": [],
   "source": [
    "# Example Usage:\n",
    "c1 = Contact(\"Andy\", \"Bek\")\n",
    "c2 = Contact(\"Andy\", \"Bek\", \"647-537-9271\")\n",
    "c3 = Contact(\"Andrew\", \"Bek\", \"647-537-9271\", \"hey@andybek.com\")\n",
    "c4 = Contact(\"Andy\", \"Bek\", \"647-537-9271\", display_mode=\"show\")"
   ]
  },
  {
   "cell_type": "code",
   "execution_count": 184,
   "metadata": {},
   "outputs": [
    {
     "data": {
      "text/plain": [
       "True"
      ]
     },
     "execution_count": 184,
     "metadata": {},
     "output_type": "execute_result"
    }
   ],
   "source": [
    "c2 == c3\n",
    "# True # because the phone number is the same"
   ]
  },
  {
   "cell_type": "code",
   "execution_count": 185,
   "metadata": {},
   "outputs": [
    {
     "data": {
      "text/plain": [
       "Contact(name=An**, last_name=Be*)"
      ]
     },
     "execution_count": 185,
     "metadata": {},
     "output_type": "execute_result"
    }
   ],
   "source": [
    "c1\n",
    "# Contact(name=An***, last_name=B**)"
   ]
  },
  {
   "cell_type": "code",
   "execution_count": 186,
   "metadata": {},
   "outputs": [
    {
     "data": {
      "text/plain": [
       "'BA'"
      ]
     },
     "execution_count": 186,
     "metadata": {},
     "output_type": "execute_result"
    }
   ],
   "source": [
    "str(c1)\n",
    "# 'BA'"
   ]
  },
  {
   "cell_type": "code",
   "execution_count": 187,
   "metadata": {},
   "outputs": [
    {
     "data": {
      "text/plain": [
       "'Contact(name=An**, last_name=Be*, phone=None, email=None)'"
      ]
     },
     "execution_count": 187,
     "metadata": {},
     "output_type": "execute_result"
    }
   ],
   "source": [
    "\"{c:unmasked}\".format(c=c1)\n",
    "# 'Contact(name=Andy, last_name=Bek, phone=None, email=None)'"
   ]
  },
  {
   "cell_type": "code",
   "execution_count": 188,
   "metadata": {},
   "outputs": [
    {
     "data": {
      "text/plain": [
       "'Contact(name=Andy, last_name=Bek, phone=647-537-9271, email=None)'"
      ]
     },
     "execution_count": 188,
     "metadata": {},
     "output_type": "execute_result"
    }
   ],
   "source": [
    "f\"{c2:unmasked}\"\n",
    "# 'Contact(name=Andy, last_name=Bek, phone=647-537-9271, email=None)'"
   ]
  },
  {
   "cell_type": "code",
   "execution_count": 189,
   "metadata": {},
   "outputs": [
    {
     "data": {
      "text/plain": [
       "'Contact(name=Andy, last_name=Bek, phone=647-537-9271, email=None)'"
      ]
     },
     "execution_count": 189,
     "metadata": {},
     "output_type": "execute_result"
    }
   ],
   "source": [
    "format(c2, \"unmasked\")\n",
    "# 'Contact(name=Andy, last_name=Bek, phone=647-537-9271, email=None)'"
   ]
  },
  {
   "cell_type": "code",
   "execution_count": null,
   "metadata": {},
   "outputs": [],
   "source": []
  }
 ],
 "metadata": {
  "kernelspec": {
   "display_name": "Python 3 (ipykernel)",
   "language": "python",
   "name": "python3"
  },
  "language_info": {
   "codemirror_mode": {
    "name": "ipython",
    "version": 3
   },
   "file_extension": ".py",
   "mimetype": "text/x-python",
   "name": "python",
   "nbconvert_exporter": "python",
   "pygments_lexer": "ipython3",
   "version": "3.10.9"
  }
 },
 "nbformat": 4,
 "nbformat_minor": 4
}
