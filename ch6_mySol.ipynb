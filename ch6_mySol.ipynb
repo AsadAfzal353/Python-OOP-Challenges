{
 "cells": [
  {
   "cell_type": "code",
   "execution_count": 154,
   "metadata": {},
   "outputs": [],
   "source": [
    "class Tablet:\n",
    "\n",
    "    max_memory = 1024\n",
    "    model_types = {\"lite\": (2, 32),\n",
    "                   \"pro\": (3, 64),\n",
    "                   \"max\": (4, 128)}\n",
    "    \n",
    "    def __init__(self, model):\n",
    "        self.model = model\n",
    "        self._added_storage = 0\n",
    "        self._storage = 0\n",
    "        \n",
    "    \n",
    "    def __repr__(self):\n",
    "        return f'Tablet(model=\"{self._model}\", base_storage={self._base_storage}, added_storage={self._added_storage}, memory={self._memory})'\n",
    "    \n",
    "    @property\n",
    "    def memory(self):\n",
    "        return self._memory\n",
    "    \n",
    "    @property\n",
    "    def base_storage(self):\n",
    "        return self._base_storage\n",
    "    \n",
    "    @property\n",
    "    def storage(self):\n",
    "        self._storage = self._base_storage + self._added_storage\n",
    "        return self._storage\n",
    "    \n",
    "    @storage.setter\n",
    "    def storage(self, amount):\n",
    "        self._added_storage = 0\n",
    "        if  (amount-self._base_storage < 0) or (amount-self._base_storage > self.max_memory):\n",
    "            raise ValueError(\"Memory cannot exceed 1024 or less than base storage\")\n",
    "        self._added_storage = amount - self._base_storage \n",
    "\n",
    "\n",
    "    @property\n",
    "    def model(self):\n",
    "        return self._model\n",
    "    \n",
    "    @model.setter\n",
    "    def model(self, value):\n",
    "        value = value.lower()\n",
    "        if value not in self.model_types.keys():\n",
    "            raise ValueError(\"Unrecognized model\")\n",
    "        else:\n",
    "            self._model = value\n",
    "            self._memory, self._base_storage = self.model_types[value]\n",
    "    \n",
    "    def add_storage(self, amount):\n",
    "        if (self.base_storage + amount > self.max_memory):\n",
    "            raise ValueError(\"Memory cannot exceed 1024\")\n",
    "        self._added_storage += amount\n"
   ]
  },
  {
   "cell_type": "code",
   "execution_count": 161,
   "metadata": {},
   "outputs": [
    {
     "data": {
      "text/plain": [
       "Tablet(model=\"lite\", base_storage=32, added_storage=0, memory=2)"
      ]
     },
     "execution_count": 161,
     "metadata": {},
     "output_type": "execute_result"
    }
   ],
   "source": [
    "t1 = Tablet(\"lite\")\n",
    "t2 = Tablet(\"pro\")\n",
    "t1 # Tablet(model=\"lite\", base_storage=32, added_storage=0, memory=2)"
   ]
  },
  {
   "cell_type": "code",
   "execution_count": 162,
   "metadata": {},
   "outputs": [],
   "source": [
    "# Tablet(\"Batman\") # ValueError: Unrecognized model"
   ]
  },
  {
   "cell_type": "code",
   "execution_count": 163,
   "metadata": {},
   "outputs": [
    {
     "data": {
      "text/plain": [
       "Tablet(model=\"lite\", base_storage=32, added_storage=16, memory=2)"
      ]
     },
     "execution_count": 163,
     "metadata": {},
     "output_type": "execute_result"
    }
   ],
   "source": [
    "t1.add_storage(16)\n",
    "t1 # Tablet(model=\"lite\", base_storage=32, added_storage=16, memory=2)"
   ]
  },
  {
   "cell_type": "code",
   "execution_count": 164,
   "metadata": {},
   "outputs": [
    {
     "data": {
      "text/plain": [
       "48"
      ]
     },
     "execution_count": 164,
     "metadata": {},
     "output_type": "execute_result"
    }
   ],
   "source": [
    "t1.storage # 48"
   ]
  },
  {
   "cell_type": "code",
   "execution_count": 166,
   "metadata": {},
   "outputs": [
    {
     "data": {
      "text/plain": [
       "Tablet(model=\"lite\", base_storage=32, added_storage=224, memory=2)"
      ]
     },
     "execution_count": 166,
     "metadata": {},
     "output_type": "execute_result"
    }
   ],
   "source": [
    "t1.storage = 256\n",
    "t1 # Tablet(model=\"lite\", base_storage=32, added_storage=224, memory=2)"
   ]
  },
  {
   "cell_type": "code",
   "execution_count": 167,
   "metadata": {},
   "outputs": [
    {
     "data": {
      "text/plain": [
       "Tablet(model=\"pro\", base_storage=64, added_storage=192, memory=3)"
      ]
     },
     "execution_count": 167,
     "metadata": {},
     "output_type": "execute_result"
    }
   ],
   "source": [
    "t2.storage = 256\n",
    "t2 # Tablet(model=\"pro\", base_storage=64, added_storage=192, memory=3)"
   ]
  },
  {
   "cell_type": "code",
   "execution_count": 168,
   "metadata": {},
   "outputs": [
    {
     "data": {
      "text/plain": [
       "Tablet(model=\"lite\", base_storage=32, added_storage=992, memory=2)"
      ]
     },
     "execution_count": 168,
     "metadata": {},
     "output_type": "execute_result"
    }
   ],
   "source": [
    "t1.add_storage(1024-256) # ValueError: Memory cannot exceed 1024\n",
    "t1"
   ]
  },
  {
   "cell_type": "code",
   "execution_count": 169,
   "metadata": {},
   "outputs": [
    {
     "ename": "AttributeError",
     "evalue": "can't set attribute 'memory'",
     "output_type": "error",
     "traceback": [
      "\u001b[0;31m---------------------------------------------------------------------------\u001b[0m",
      "\u001b[0;31mAttributeError\u001b[0m                            Traceback (most recent call last)",
      "Cell \u001b[0;32mIn[169], line 2\u001b[0m\n\u001b[1;32m      1\u001b[0m t1\u001b[39m.\u001b[39mmemory\n\u001b[0;32m----> 2\u001b[0m t1\u001b[39m.\u001b[39mmemory \u001b[39m=\u001b[39m \u001b[39m2\u001b[39m\n",
      "\u001b[0;31mAttributeError\u001b[0m: can't set attribute 'memory'"
     ]
    }
   ],
   "source": [
    "t1.memory\n",
    "t1.memory = 2 # AttributeError: can't set attribute"
   ]
  },
  {
   "cell_type": "code",
   "execution_count": 170,
   "metadata": {},
   "outputs": [
    {
     "data": {
      "text/plain": [
       "32"
      ]
     },
     "execution_count": 170,
     "metadata": {},
     "output_type": "execute_result"
    }
   ],
   "source": [
    "t1.base_storage # 32"
   ]
  },
  {
   "cell_type": "code",
   "execution_count": 171,
   "metadata": {},
   "outputs": [
    {
     "ename": "AttributeError",
     "evalue": "can't set attribute 'base_storage'",
     "output_type": "error",
     "traceback": [
      "\u001b[0;31m---------------------------------------------------------------------------\u001b[0m",
      "\u001b[0;31mAttributeError\u001b[0m                            Traceback (most recent call last)",
      "Cell \u001b[0;32mIn[171], line 1\u001b[0m\n\u001b[0;32m----> 1\u001b[0m t1\u001b[39m.\u001b[39mbase_storage \u001b[39m=\u001b[39m \u001b[39m64\u001b[39m\n",
      "\u001b[0;31mAttributeError\u001b[0m: can't set attribute 'base_storage'"
     ]
    }
   ],
   "source": [
    "t1.base_storage = 64 # AttributeError: can't set attribute"
   ]
  }
 ],
 "metadata": {
  "kernelspec": {
   "display_name": "base",
   "language": "python",
   "name": "python3"
  },
  "language_info": {
   "codemirror_mode": {
    "name": "ipython",
    "version": 3
   },
   "file_extension": ".py",
   "mimetype": "text/x-python",
   "name": "python",
   "nbconvert_exporter": "python",
   "pygments_lexer": "ipython3",
   "version": "3.10.9"
  },
  "orig_nbformat": 4
 },
 "nbformat": 4,
 "nbformat_minor": 2
}
