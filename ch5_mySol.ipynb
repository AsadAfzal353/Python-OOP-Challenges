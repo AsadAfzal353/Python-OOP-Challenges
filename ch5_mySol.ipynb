{
 "cells": [
  {
   "cell_type": "code",
   "execution_count": 17,
   "metadata": {},
   "outputs": [],
   "source": [
    "class DNABase:\n",
    "\n",
    "    valid_names = { 'a': 'adenine', 'adenine': 'adenine',\n",
    "                    'c': 'cytosine', 'cytosine': 'cytosine',\n",
    "                    'g': 'guanine', 'guanine' : 'guanine',\n",
    "                    't': 'thymine', 'thymine': 'thymine'\n",
    "                  }\n",
    "    \n",
    "    def __init__(self, nucleotide):\n",
    "        self.base = nucleotide\n",
    "        self.set_base(self.base)\n",
    "\n",
    "    def __repr__(self):\n",
    "        return f\"{type(self).__name__}(nucleotide='{self._base}')\"\n",
    "\n",
    "    def get_base(self):\n",
    "        return self._base\n",
    "    \n",
    "    def set_base(self, name):\n",
    "        if name.lower() not in self.valid_names.keys():\n",
    "            raise ValueError(f\"{name} is not a recognized DNA nucleotide\")\n",
    "        else:\n",
    "            self._base = self.valid_names[name.lower()]\n",
    "\n",
    "    base = property(fget=get_base, fset=set_base)\n"
   ]
  },
  {
   "cell_type": "code",
   "execution_count": 18,
   "metadata": {},
   "outputs": [
    {
     "data": {
      "text/plain": [
       "DNABase(nucleotide='adenine')"
      ]
     },
     "execution_count": 18,
     "metadata": {},
     "output_type": "execute_result"
    }
   ],
   "source": [
    "b1 = DNABase('A')\n",
    "b1 # DNABase(nucleotide='adenine')"
   ]
  },
  {
   "cell_type": "code",
   "execution_count": 19,
   "metadata": {},
   "outputs": [
    {
     "data": {
      "text/plain": [
       "'adenine'"
      ]
     },
     "execution_count": 19,
     "metadata": {},
     "output_type": "execute_result"
    }
   ],
   "source": [
    "b1.base # 'adenine'"
   ]
  },
  {
   "cell_type": "code",
   "execution_count": 20,
   "metadata": {},
   "outputs": [
    {
     "ename": "AttributeError",
     "evalue": "'DNABase' object has no attribute 'nucleotide'",
     "output_type": "error",
     "traceback": [
      "\u001b[0;31m---------------------------------------------------------------------------\u001b[0m",
      "\u001b[0;31mAttributeError\u001b[0m                            Traceback (most recent call last)",
      "Cell \u001b[0;32mIn[20], line 1\u001b[0m\n\u001b[0;32m----> 1\u001b[0m b1\u001b[39m.\u001b[39;49mnucleotide\n",
      "\u001b[0;31mAttributeError\u001b[0m: 'DNABase' object has no attribute 'nucleotide'"
     ]
    }
   ],
   "source": [
    "b1.nucleotide #AttributeError: 'DNABase' object has no attribute 'nucleotide'"
   ]
  },
  {
   "cell_type": "code",
   "execution_count": 21,
   "metadata": {},
   "outputs": [
    {
     "data": {
      "text/plain": [
       "DNABase(nucleotide='cytosine')"
      ]
     },
     "execution_count": 21,
     "metadata": {},
     "output_type": "execute_result"
    }
   ],
   "source": [
    "b1.base = 'c'\n",
    "b1 # DNABase(nucleotide='cytosine')"
   ]
  },
  {
   "cell_type": "code",
   "execution_count": 22,
   "metadata": {},
   "outputs": [
    {
     "ename": "ValueError",
     "evalue": "Aoli is not a recognized DNA nucleotide",
     "output_type": "error",
     "traceback": [
      "\u001b[0;31m---------------------------------------------------------------------------\u001b[0m",
      "\u001b[0;31mValueError\u001b[0m                                Traceback (most recent call last)",
      "Cell \u001b[0;32mIn[22], line 1\u001b[0m\n\u001b[0;32m----> 1\u001b[0m b1\u001b[39m.\u001b[39mbase \u001b[39m=\u001b[39m \u001b[39m\"\u001b[39m\u001b[39mAoli\u001b[39m\u001b[39m\"\u001b[39m \u001b[39m# ValueError: Aoli is not a recognized DNA nucleotide\u001b[39;00m\n\u001b[1;32m      2\u001b[0m b1\n",
      "Cell \u001b[0;32mIn[17], line 21\u001b[0m, in \u001b[0;36mDNABase.set_base\u001b[0;34m(self, name)\u001b[0m\n\u001b[1;32m     19\u001b[0m \u001b[39mdef\u001b[39;00m \u001b[39mset_base\u001b[39m(\u001b[39mself\u001b[39m, name):\n\u001b[1;32m     20\u001b[0m     \u001b[39mif\u001b[39;00m name\u001b[39m.\u001b[39mlower() \u001b[39mnot\u001b[39;00m \u001b[39min\u001b[39;00m \u001b[39mself\u001b[39m\u001b[39m.\u001b[39mvalid_names\u001b[39m.\u001b[39mkeys():\n\u001b[0;32m---> 21\u001b[0m         \u001b[39mraise\u001b[39;00m \u001b[39mValueError\u001b[39;00m(\u001b[39mf\u001b[39m\u001b[39m\"\u001b[39m\u001b[39m{\u001b[39;00mname\u001b[39m}\u001b[39;00m\u001b[39m is not a recognized DNA nucleotide\u001b[39m\u001b[39m\"\u001b[39m)\n\u001b[1;32m     22\u001b[0m     \u001b[39melse\u001b[39;00m:\n\u001b[1;32m     23\u001b[0m         \u001b[39mself\u001b[39m\u001b[39m.\u001b[39m_base \u001b[39m=\u001b[39m \u001b[39mself\u001b[39m\u001b[39m.\u001b[39mvalid_names[name\u001b[39m.\u001b[39mlower()]\n",
      "\u001b[0;31mValueError\u001b[0m: Aoli is not a recognized DNA nucleotide"
     ]
    }
   ],
   "source": [
    "b1.base = \"Aoli\" # ValueError: Aoli is not a recognized DNA nucleotide\n",
    "b1"
   ]
  },
  {
   "cell_type": "code",
   "execution_count": 23,
   "metadata": {},
   "outputs": [
    {
     "ename": "ValueError",
     "evalue": "aol is not a recognized DNA nucleotide",
     "output_type": "error",
     "traceback": [
      "\u001b[0;31m---------------------------------------------------------------------------\u001b[0m",
      "\u001b[0;31mValueError\u001b[0m                                Traceback (most recent call last)",
      "Cell \u001b[0;32mIn[23], line 1\u001b[0m\n\u001b[0;32m----> 1\u001b[0m DNABase(\u001b[39m\"\u001b[39;49m\u001b[39maol\u001b[39;49m\u001b[39m\"\u001b[39;49m)\n",
      "Cell \u001b[0;32mIn[17], line 10\u001b[0m, in \u001b[0;36mDNABase.__init__\u001b[0;34m(self, nucleotide)\u001b[0m\n\u001b[1;32m      9\u001b[0m \u001b[39mdef\u001b[39;00m \u001b[39m__init__\u001b[39m(\u001b[39mself\u001b[39m, nucleotide):\n\u001b[0;32m---> 10\u001b[0m     \u001b[39mself\u001b[39m\u001b[39m.\u001b[39mbase \u001b[39m=\u001b[39m nucleotide\n\u001b[1;32m     11\u001b[0m     \u001b[39mself\u001b[39m\u001b[39m.\u001b[39mset_base(\u001b[39mself\u001b[39m\u001b[39m.\u001b[39mbase)\n",
      "Cell \u001b[0;32mIn[17], line 21\u001b[0m, in \u001b[0;36mDNABase.set_base\u001b[0;34m(self, name)\u001b[0m\n\u001b[1;32m     19\u001b[0m \u001b[39mdef\u001b[39;00m \u001b[39mset_base\u001b[39m(\u001b[39mself\u001b[39m, name):\n\u001b[1;32m     20\u001b[0m     \u001b[39mif\u001b[39;00m name\u001b[39m.\u001b[39mlower() \u001b[39mnot\u001b[39;00m \u001b[39min\u001b[39;00m \u001b[39mself\u001b[39m\u001b[39m.\u001b[39mvalid_names\u001b[39m.\u001b[39mkeys():\n\u001b[0;32m---> 21\u001b[0m         \u001b[39mraise\u001b[39;00m \u001b[39mValueError\u001b[39;00m(\u001b[39mf\u001b[39m\u001b[39m\"\u001b[39m\u001b[39m{\u001b[39;00mname\u001b[39m}\u001b[39;00m\u001b[39m is not a recognized DNA nucleotide\u001b[39m\u001b[39m\"\u001b[39m)\n\u001b[1;32m     22\u001b[0m     \u001b[39melse\u001b[39;00m:\n\u001b[1;32m     23\u001b[0m         \u001b[39mself\u001b[39m\u001b[39m.\u001b[39m_base \u001b[39m=\u001b[39m \u001b[39mself\u001b[39m\u001b[39m.\u001b[39mvalid_names[name\u001b[39m.\u001b[39mlower()]\n",
      "\u001b[0;31mValueError\u001b[0m: aol is not a recognized DNA nucleotide"
     ]
    }
   ],
   "source": [
    "DNABase(\"aol\") # ValueError: aol is not a recognized DNA nucleotide"
   ]
  },
  {
   "cell_type": "code",
   "execution_count": 24,
   "metadata": {},
   "outputs": [
    {
     "data": {
      "text/plain": [
       "DNABase(nucleotide='thymine')"
      ]
     },
     "execution_count": 24,
     "metadata": {},
     "output_type": "execute_result"
    }
   ],
   "source": [
    "b1.base = \"thYMIne\"\n",
    "b1 # DNABase(nucleotide='thymine')"
   ]
  },
  {
   "cell_type": "code",
   "execution_count": 25,
   "metadata": {},
   "outputs": [
    {
     "data": {
      "text/plain": [
       "{'_base': 'thymine'}"
      ]
     },
     "execution_count": 25,
     "metadata": {},
     "output_type": "execute_result"
    }
   ],
   "source": [
    "b1.__dict__"
   ]
  },
  {
   "cell_type": "code",
   "execution_count": null,
   "metadata": {},
   "outputs": [],
   "source": []
  }
 ],
 "metadata": {
  "kernelspec": {
   "display_name": "base",
   "language": "python",
   "name": "python3"
  },
  "language_info": {
   "codemirror_mode": {
    "name": "ipython",
    "version": 3
   },
   "file_extension": ".py",
   "mimetype": "text/x-python",
   "name": "python",
   "nbconvert_exporter": "python",
   "pygments_lexer": "ipython3",
   "version": "3.10.9"
  },
  "orig_nbformat": 4
 },
 "nbformat": 4,
 "nbformat_minor": 2
}
