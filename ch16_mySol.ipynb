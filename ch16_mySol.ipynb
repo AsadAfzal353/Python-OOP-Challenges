{
 "cells": [
  {
   "cell_type": "code",
   "execution_count": null,
   "metadata": {},
   "outputs": [],
   "source": [
    "from random import randint\n",
    "\n",
    "class VisaMixin():\n",
    "    def generate(self):\n",
    "        return [4,2] + super().generate()\n",
    "\n",
    "class MasterCardMixin():\n",
    "    def generate(self):\n",
    "        return [5,3] + super().generate()\n",
    "\n",
    "class ValidMixin():\n",
    "    def generate(self):\n",
    "        cumsum = 0\n",
    "        count = 0\n",
    "        for n in reversed(super().generate()[:-1]):\n",
    "            if count%2 == 0:\n",
    "                cumsum += sum([int(i) for i in str(2*n)]) if 2*n > 9 else 2*n\n",
    "            count += 1\n",
    "        return super().generate()[:-1] + [10-cumsum%10]\n",
    "\n",
    "class CreditCard():\n",
    "\n",
    "    def __init__(self):\n",
    "        self._number = self.generate()\n",
    "\n",
    "    def generate(self):\n",
    "            return [randint(0,9) for _ in range(14)]\n",
    "    \n",
    "    @property\n",
    "    def number(self):\n",
    "        return \" \".join([\"\".join(map(str,(self._number[i:i+4]))) \\\n",
    "                         for i in range(0, len(self._number), 4)])\n",
    "    "
   ]
  },
  {
   "cell_type": "code",
   "execution_count": null,
   "metadata": {},
   "outputs": [],
   "source": [
    "class Visa(VisaMixin, CreditCard):\n",
    "    pass"
   ]
  },
  {
   "cell_type": "code",
   "execution_count": null,
   "metadata": {},
   "outputs": [],
   "source": [
    "Visa().number # 4266 8886 0014 6408"
   ]
  },
  {
   "cell_type": "code",
   "execution_count": null,
   "metadata": {},
   "outputs": [],
   "source": [
    "class MasterCard(ValidMixin, MasterCardMixin, CreditCard):\n",
    "    pass"
   ]
  },
  {
   "cell_type": "code",
   "execution_count": null,
   "metadata": {},
   "outputs": [],
   "source": [
    "MasterCard().number # 5223 3755 8832 5379"
   ]
  }
 ],
 "metadata": {
  "language_info": {
   "name": "python"
  },
  "orig_nbformat": 4
 },
 "nbformat": 4,
 "nbformat_minor": 2
}
