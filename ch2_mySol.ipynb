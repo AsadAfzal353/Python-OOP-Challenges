{
 "cells": [
  {
   "cell_type": "code",
   "execution_count": 13,
   "metadata": {},
   "outputs": [],
   "source": [
    "from random import choice\n",
    "\n",
    "class Password:\n",
    "    # static variables\n",
    "    db_dict = {\n",
    "        \"letters\" : [\"a\", \"A\", \"b\", \"B\", \"c\", \"C\",\n",
    "                     \"d\", \"D\", \"e\", \"E\", \"f\", \"F\",\n",
    "                     \"g\", \"G\", \"h\", \"H\", \"i\", \"I\",\n",
    "                     \"j\", \"J\", \"k\", \"K\", \"l\", \"L\",\n",
    "                     \"M\", \"m\", \"n\", \"N\", \"o\", \"O\",\n",
    "                     \"p\", \"P\", \"q\", \"Q\", \"r\", \"R\", \n",
    "                     \"s\", \"S\", \"t\", \"T\", \"u\", \"U\", \n",
    "                     \"v\", \"V\", \"w\", \"W\", \"x\", \"X\",\n",
    "                     \"y\", \"Y\", \"z\", \"Z\"],\n",
    "            \n",
    "        \"numbers\" : [0, 1, 2, 3, 4,\n",
    "                     5, 6, 7, 8 ,9],\n",
    "            \n",
    "        \"punctuations\" : [\"`\", \"~\", \"!\", \"@\", \"#\",\n",
    "                          \"$\", \"%\", \"^\", \"&\", \"*\",\n",
    "                          \"(\", \")\", \"-\", \"_\", \"=\",\n",
    "                          \"+\", \"{\", \"}\", \"[\", \"]\",\n",
    "                          \";\", \":\", \"|\", \"<\", \">\",\n",
    "                          \",\", \".\", \"?\", \"/\", \"'\"]\n",
    "            }\n",
    "    \n",
    "    default_lengths = {\n",
    "                        \"low\": 8,\n",
    "                        \"mid\": 12,\n",
    "                        \"high\": 16\n",
    "                    }\n",
    "            \n",
    "\n",
    "    # instance variables\n",
    "    def __init__(self, strength=\"mid\", length=None):\n",
    "        self.strength = strength\n",
    "        self.length = length\n",
    "        self.set_lst()\n",
    "        self.gen_password()\n",
    "\n",
    "\n",
    "    # instance methods\n",
    "    def set_lst(self):\n",
    "        if (self.strength == \"low\"):\n",
    "            self.lst = self.db_dict[\"letters\"]\n",
    "        elif (self.strength == \"mid\"):\n",
    "            self.lst = self.db_dict[\"letters\"] + \\\n",
    "                        self.db_dict[\"numbers\"]\n",
    "           \n",
    "        elif (self.strength == \"high\"):\n",
    "            self.lst = self.db_dict[\"letters\"] + \\\n",
    "                        self.db_dict[\"numbers\"] + \\\n",
    "                        self.db_dict[\"punctuations\"]\n",
    "        else:\n",
    "            raise NameError(\"Invalid strength!\")\n",
    "        return self.lst\n",
    "\n",
    "    def gen_password(self):\n",
    "        self.password = []\n",
    "        if not (self.length): # if no length given\n",
    "            pass_len = self.default_lengths.get(self.strength, None)\n",
    "        else:\n",
    "            pass_len = self.length\n",
    "            if not (pass_len):\n",
    "                raise NameError(\"Invalid strength!\")\n",
    "        \n",
    "        for i in range(pass_len):\n",
    "            chr = choice(self.lst)\n",
    "            self.password.append(chr)\n",
    "\n",
    "        self.password = ''.join(map(str,self.password))\n",
    "        return self.password\n",
    "\n",
    "    def show_input_universe(self):\n",
    "        return self.db_dict;"
   ]
  },
  {
   "cell_type": "code",
   "execution_count": null,
   "metadata": {},
   "outputs": [],
   "source": []
  },
  {
   "cell_type": "code",
   "execution_count": 14,
   "metadata": {},
   "outputs": [
    {
     "data": {
      "text/plain": [
       "'XyJGTmzm'"
      ]
     },
     "execution_count": 14,
     "metadata": {},
     "output_type": "execute_result"
    }
   ],
   "source": [
    "p1 = Password(strength=\"low\")\n",
    "p1.password # LAyuu4EI"
   ]
  },
  {
   "cell_type": "code",
   "execution_count": 17,
   "metadata": {},
   "outputs": [
    {
     "data": {
      "text/plain": [
       "'f9lbGSIJDFLVwnO3ehadkuVv8iBW5Y531QHRx'"
      ]
     },
     "execution_count": 17,
     "metadata": {},
     "output_type": "execute_result"
    }
   ],
   "source": [
    "p2 = Password(strength=\"mid\", length=37)\n",
    "p2.password # D6tjKt885vM2U5IwHYqhr9aL6SbIBhHJ16gZf"
   ]
  },
  {
   "cell_type": "code",
   "execution_count": 18,
   "metadata": {},
   "outputs": [
    {
     "data": {
      "text/plain": [
       "'pwz=e)H)P^2~WCwA'"
      ]
     },
     "execution_count": 18,
     "metadata": {},
     "output_type": "execute_result"
    }
   ],
   "source": [
    "p3 = Password(strength=\"high\")\n",
    "p3.password # 71'Z>fG{9gIUQQ2a"
   ]
  },
  {
   "cell_type": "code",
   "execution_count": 19,
   "metadata": {},
   "outputs": [
    {
     "data": {
      "text/plain": [
       "'vv58AbGARiH1'"
      ]
     },
     "execution_count": 19,
     "metadata": {},
     "output_type": "execute_result"
    }
   ],
   "source": [
    "p4 = Password()\n",
    "p4.password # IGYY2veeqz1Q"
   ]
  },
  {
   "cell_type": "code",
   "execution_count": null,
   "metadata": {},
   "outputs": [],
   "source": []
  }
 ],
 "metadata": {
  "kernelspec": {
   "display_name": "base",
   "language": "python",
   "name": "python3"
  },
  "language_info": {
   "codemirror_mode": {
    "name": "ipython",
    "version": 3
   },
   "file_extension": ".py",
   "mimetype": "text/x-python",
   "name": "python",
   "nbconvert_exporter": "python",
   "pygments_lexer": "ipython3",
   "version": "3.10.9"
  },
  "orig_nbformat": 4
 },
 "nbformat": 4,
 "nbformat_minor": 2
}
