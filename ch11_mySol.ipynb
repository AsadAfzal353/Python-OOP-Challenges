{
 "cells": [
  {
   "cell_type": "code",
   "execution_count": 45,
   "metadata": {},
   "outputs": [],
   "source": [
    "class GREScore:\n",
    "    # DICT = {\n",
    "    #     'sat': [('low', 130), ('high', 340)],\n",
    "    #     'gre': [('low', 400), ('high', 340)]\n",
    "    #         }\n",
    "\n",
    "    def __init__(self, score):\n",
    "        self.score = score\n",
    "        print(self.score)\n",
    "        self.low = 130\n",
    "        self.high = 340\n",
    "\n",
    "    \n",
    "    def __set_name__(self, owner, name):\n",
    "        self.name = name\n",
    "\n",
    "    def __get__(self, instance, onwer):\n",
    "        return instance.__dict__.get(f\"{self.__class__.__name__}_{self.name}\", None)\n",
    "\n",
    "    def __set__(self, instance, value):\n",
    "        print(\"Entered set function\")\n",
    "        if type(value) != int:\n",
    "            raise AttributeError(\"Invalid score entered\")\n",
    "        if not (self.low >= value >= self.high):\n",
    "            raise ValueError(f\"Score must fall between {self.low} and {self.high}\")\n",
    "        instance.__dict__[f\"{self.__class__.__name__}_{self.name}\"] = value\n",
    "        \n",
    "\n",
    "    def __delete__(self, instance):\n",
    "            del instance.__dict__[f\"{self.__class__.__name__}_{self.name}\"]\n",
    "\n",
    "class StudentProfile():\n",
    "    def __init__(self, name, gre):\n",
    "        self.name = name\n",
    "        #sat = TextField(1220)\n",
    "        self.gre = GREScore(gre)\n",
    "\n",
    "    def __repr__(self):\n",
    "        return f\"{self.__class__.__name__}(name='{self.name}', gre={self.gre.score})\""
   ]
  },
  {
   "cell_type": "code",
   "execution_count": 97,
   "metadata": {},
   "outputs": [],
   "source": [
    "class GREScore:\n",
    "    def __init__(self, score=130):\n",
    "        self.score = score\n",
    "        self.low = 130\n",
    "        self.high = 340\n",
    "\n",
    "    def __set_name__(self, owner, name):\n",
    "        self.name = name\n",
    "\n",
    "    def __get__(self, instance, onwer):\n",
    "        return instance.__dict__.get(f\"{self.__class__.__name__}_{self.name}\", None)\n",
    "\n",
    "    def __set__(self, instance, value):\n",
    "        if type(value) != int:\n",
    "            raise AttributeError(\"Invalid score entered\")\n",
    "        if (self.low > value or value > self.high):\n",
    "            raise ValueError(f\"Score must fall between {self.low} and {self.high}\")\n",
    "        instance.__dict__[f\"{self.__class__.__name__}_{self.name}\"] = value\n",
    "        \n",
    "    def __delete__(self, instance):\n",
    "            del instance.__dict__[f\"{self.__class__.__name__}_{self.name}\"]\n",
    "\n",
    "class SATScore:\n",
    "    def __init__(self, score=400):\n",
    "        self.score = score\n",
    "        self.low = 400\n",
    "        self.high = 1600\n",
    "\n",
    "    def __set_name__(self, owner, name):\n",
    "        self.name = name\n",
    "\n",
    "    def __get__(self, instance, onwer):\n",
    "        return instance.__dict__.get(f\"{self.__class__.__name__}_{self.name}\", None)\n",
    "\n",
    "    def __set__(self, instance, value):\n",
    "        if type(value) != int:\n",
    "            raise AttributeError(\"Invalid score entered\")\n",
    "        if (self.low > value or value > self.high):\n",
    "            raise ValueError(f\"Score must fall between {self.low} and {self.high}\")\n",
    "        instance.__dict__[f\"{self.__class__.__name__}_{self.name}\"] = value\n",
    "        \n",
    "    def __delete__(self, instance):\n",
    "            del instance.__dict__[f\"{self.__class__.__name__}_{self.name}\"]\n",
    "\n",
    "\n",
    "class StudentProfile:\n",
    "    gre = GREScore()\n",
    "    sat = SATScore()\n",
    "\n",
    "    def __init__(self, name=None, gre=130, sat=340):\n",
    "        self.name = name\n",
    "        self.gre = gre\n",
    "        self.sat = sat\n",
    "\n",
    "    def __repr__(self):\n",
    "        return f\"{self.__class__.__name__}(name='{self.name}', gre={self.gre}, sat={self.sat})\""
   ]
  },
  {
   "cell_type": "code",
   "execution_count": 98,
   "metadata": {},
   "outputs": [
    {
     "data": {
      "text/plain": [
       "StudentProfile(name='Andrew', gre=130, sat=1220)"
      ]
     },
     "execution_count": 98,
     "metadata": {},
     "output_type": "execute_result"
    }
   ],
   "source": [
    "sp = StudentProfile(name=\"Andrew\", sat= 1220, gre=130)\n",
    "sp # StudentProfile(name='Andrew', sat=1220, gre=130)"
   ]
  },
  {
   "cell_type": "code",
   "execution_count": 99,
   "metadata": {},
   "outputs": [
    {
     "data": {
      "text/plain": [
       "{'name': 'Andrew', 'GREScore_gre': 130, 'SATScore_sat': 1220}"
      ]
     },
     "execution_count": 99,
     "metadata": {},
     "output_type": "execute_result"
    }
   ],
   "source": [
    "sp.__dict__\n",
    "# {'name': 'Andrew', 'SATScore_sat': 1220, 'GREScore_gre': 130}"
   ]
  },
  {
   "cell_type": "code",
   "execution_count": 100,
   "metadata": {},
   "outputs": [
    {
     "data": {
      "text/plain": [
       "StudentProfile(name='Liza', gre=190, sat=400)"
      ]
     },
     "execution_count": 100,
     "metadata": {},
     "output_type": "execute_result"
    }
   ],
   "source": [
    "sp2 = StudentProfile(\"Liza\", sat=400, gre=190)\n",
    "sp2 # StudentProfile(name='Liza', sat=400, gre=190)"
   ]
  },
  {
   "cell_type": "code",
   "execution_count": 101,
   "metadata": {},
   "outputs": [
    {
     "ename": "ValueError",
     "evalue": "Score must fall between 130 and 340",
     "output_type": "error",
     "traceback": [
      "\u001b[0;31m---------------------------------------------------------------------------\u001b[0m",
      "\u001b[0;31mValueError\u001b[0m                                Traceback (most recent call last)",
      "Cell \u001b[0;32mIn[101], line 1\u001b[0m\n\u001b[0;32m----> 1\u001b[0m sp2\u001b[39m.\u001b[39mgre \u001b[39m=\u001b[39m \u001b[39m2000\u001b[39m\n",
      "Cell \u001b[0;32mIn[97], line 17\u001b[0m, in \u001b[0;36mGREScore.__set__\u001b[0;34m(self, instance, value)\u001b[0m\n\u001b[1;32m     15\u001b[0m     \u001b[39mraise\u001b[39;00m \u001b[39mAttributeError\u001b[39;00m(\u001b[39m\"\u001b[39m\u001b[39mInvalid score entered\u001b[39m\u001b[39m\"\u001b[39m)\n\u001b[1;32m     16\u001b[0m \u001b[39mif\u001b[39;00m (\u001b[39mself\u001b[39m\u001b[39m.\u001b[39mlow \u001b[39m>\u001b[39m value \u001b[39mor\u001b[39;00m value \u001b[39m>\u001b[39m \u001b[39mself\u001b[39m\u001b[39m.\u001b[39mhigh):\n\u001b[0;32m---> 17\u001b[0m     \u001b[39mraise\u001b[39;00m \u001b[39mValueError\u001b[39;00m(\u001b[39mf\u001b[39m\u001b[39m\"\u001b[39m\u001b[39mScore must fall between \u001b[39m\u001b[39m{\u001b[39;00m\u001b[39mself\u001b[39m\u001b[39m.\u001b[39mlow\u001b[39m}\u001b[39;00m\u001b[39m and \u001b[39m\u001b[39m{\u001b[39;00m\u001b[39mself\u001b[39m\u001b[39m.\u001b[39mhigh\u001b[39m}\u001b[39;00m\u001b[39m\"\u001b[39m)\n\u001b[1;32m     18\u001b[0m instance\u001b[39m.\u001b[39m\u001b[39m__dict__\u001b[39m[\u001b[39mf\u001b[39m\u001b[39m\"\u001b[39m\u001b[39m{\u001b[39;00m\u001b[39mself\u001b[39m\u001b[39m.\u001b[39m\u001b[39m__class__\u001b[39m\u001b[39m.\u001b[39m\u001b[39m__name__\u001b[39m\u001b[39m}\u001b[39;00m\u001b[39m_\u001b[39m\u001b[39m{\u001b[39;00m\u001b[39mself\u001b[39m\u001b[39m.\u001b[39mname\u001b[39m}\u001b[39;00m\u001b[39m\"\u001b[39m] \u001b[39m=\u001b[39m value\n",
      "\u001b[0;31mValueError\u001b[0m: Score must fall between 130 and 340"
     ]
    }
   ],
   "source": [
    "sp2.gre = 2000 # ValueError: Score must fall between 130 and 340"
   ]
  },
  {
   "cell_type": "code",
   "execution_count": 102,
   "metadata": {},
   "outputs": [
    {
     "ename": "AttributeError",
     "evalue": "Invalid score entered",
     "output_type": "error",
     "traceback": [
      "\u001b[0;31m---------------------------------------------------------------------------\u001b[0m",
      "\u001b[0;31mAttributeError\u001b[0m                            Traceback (most recent call last)",
      "Cell \u001b[0;32mIn[102], line 1\u001b[0m\n\u001b[0;32m----> 1\u001b[0m sp2\u001b[39m.\u001b[39mgre \u001b[39m=\u001b[39m \u001b[39m1200.2\u001b[39m\n",
      "Cell \u001b[0;32mIn[97], line 15\u001b[0m, in \u001b[0;36mGREScore.__set__\u001b[0;34m(self, instance, value)\u001b[0m\n\u001b[1;32m     13\u001b[0m \u001b[39mdef\u001b[39;00m \u001b[39m__set__\u001b[39m(\u001b[39mself\u001b[39m, instance, value):\n\u001b[1;32m     14\u001b[0m     \u001b[39mif\u001b[39;00m \u001b[39mtype\u001b[39m(value) \u001b[39m!=\u001b[39m \u001b[39mint\u001b[39m:\n\u001b[0;32m---> 15\u001b[0m         \u001b[39mraise\u001b[39;00m \u001b[39mAttributeError\u001b[39;00m(\u001b[39m\"\u001b[39m\u001b[39mInvalid score entered\u001b[39m\u001b[39m\"\u001b[39m)\n\u001b[1;32m     16\u001b[0m     \u001b[39mif\u001b[39;00m (\u001b[39mself\u001b[39m\u001b[39m.\u001b[39mlow \u001b[39m>\u001b[39m value \u001b[39mor\u001b[39;00m value \u001b[39m>\u001b[39m \u001b[39mself\u001b[39m\u001b[39m.\u001b[39mhigh):\n\u001b[1;32m     17\u001b[0m         \u001b[39mraise\u001b[39;00m \u001b[39mValueError\u001b[39;00m(\u001b[39mf\u001b[39m\u001b[39m\"\u001b[39m\u001b[39mScore must fall between \u001b[39m\u001b[39m{\u001b[39;00m\u001b[39mself\u001b[39m\u001b[39m.\u001b[39mlow\u001b[39m}\u001b[39;00m\u001b[39m and \u001b[39m\u001b[39m{\u001b[39;00m\u001b[39mself\u001b[39m\u001b[39m.\u001b[39mhigh\u001b[39m}\u001b[39;00m\u001b[39m\"\u001b[39m)\n",
      "\u001b[0;31mAttributeError\u001b[0m: Invalid score entered"
     ]
    }
   ],
   "source": [
    "sp2.gre = 1200.2 # TypeError: Score must be an integer"
   ]
  },
  {
   "cell_type": "code",
   "execution_count": null,
   "metadata": {},
   "outputs": [],
   "source": []
  }
 ],
 "metadata": {
  "kernelspec": {
   "display_name": "base",
   "language": "python",
   "name": "python3"
  },
  "language_info": {
   "codemirror_mode": {
    "name": "ipython",
    "version": 3
   },
   "file_extension": ".py",
   "mimetype": "text/x-python",
   "name": "python",
   "nbconvert_exporter": "python",
   "pygments_lexer": "ipython3",
   "version": "3.10.9"
  },
  "orig_nbformat": 4
 },
 "nbformat": 4,
 "nbformat_minor": 2
}
