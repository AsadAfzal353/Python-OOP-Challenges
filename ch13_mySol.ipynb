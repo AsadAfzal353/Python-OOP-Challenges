{
 "cells": [
  {
   "cell_type": "code",
   "execution_count": null,
   "metadata": {},
   "outputs": [],
   "source": []
  },
  {
   "cell_type": "code",
   "execution_count": 30,
   "metadata": {},
   "outputs": [
    {
     "name": "stdout",
     "output_type": "stream",
     "text": [
      "0 a\n",
      "1 b\n",
      "2 c\n",
      "3 d\n",
      "4 e\n",
      "5 f\n",
      "6 g\n",
      "7 h\n",
      "8 i\n",
      "9 j\n",
      "10 k\n",
      "11 l\n",
      "12 m\n",
      "13 n\n",
      "14 o\n",
      "15 p\n",
      "16 q\n",
      "17 r\n",
      "18 s\n",
      "19 t\n",
      "20 u\n",
      "21 v\n",
      "22 w\n",
      "23 x\n",
      "24 y\n",
      "25 z\n"
     ]
    }
   ],
   "source": [
    "from string import ascii_lowercase\n",
    "LIST_OF_ALPHABETS = list(ascii_lowercase)\n",
    "inp = \"c\"\n",
    "rand_char = \"g\"\n",
    "before = 0\n",
    "after = 0\n",
    "curr_pos = None\n",
    "for val, ind in enumerate(LIST_OF_ALPHABETS):\n",
    "    print(val, ind)\n",
    "    if val == inp:\n",
    "        curr_pos = ind\n",
    "        print(curr_pos)\n",
    "    elif val == rand_char:\n",
    "        rand_idx = ind\n",
    "        print(rand_idx)\n",
    "    else:\n",
    "        continue\n",
    "    if rand_idx > curr_pos:\n",
    "        before += 1\n",
    "        state = \"after\"\n",
    "    else:\n",
    "        after += 1\n",
    "        state = \"before\""
   ]
  },
  {
   "cell_type": "code",
   "execution_count": 5,
   "metadata": {},
   "outputs": [],
   "source": [
    "from string import ascii_lowercase\n",
    "from random import choice\n",
    "import time\n",
    "class LetterGuessingGame:\n",
    "    LIST_OF_ALPHABETS = list(ascii_lowercase)\n",
    "    def __init__(self):\n",
    "        self.start = time.time()\n",
    "        self.before = 0\n",
    "        self.after = 0\n",
    "        self.rand_char = choice(self.LIST_OF_ALPHABETS)\n",
    "\n",
    "    def play(self):\n",
    "        print(\"The computer has chosen a letter from the English alphabet... what do you think it was?\")\n",
    "        loop = True\n",
    "        while loop:\n",
    "            try:\n",
    "                self.input = str(input(\"The computer has chosen a letter from the English alphabet... what do you think it was?\"))\n",
    "            except ValueError:\n",
    "                print(\"Only English alphabet letters are supported...\")\n",
    "            else:\n",
    "                if self.input == self.rand_char:\n",
    "                    return f\"That was correct! You played for {round(time.time() - self.start, 2)} seconds,\\\n",
    "                        and made {self.before} before guesses and {self.after} after guesses.\"                    \n",
    "            finally:\n",
    "                self._pos_check()\n",
    "                print(f\"Nope, it was something {self.state}, guess again\")\n",
    "\n",
    "\n",
    "    def _pos_check(self):\n",
    "        for ind, val in enumerate(self.LIST_OF_ALPHABETS):\n",
    "            if val == self.input:\n",
    "                curr_pos = ind\n",
    "            elif val == self.rand_char:\n",
    "                self.rand_idx = ind\n",
    "        if self.rand_idx > curr_pos:\n",
    "            self.before += 1\n",
    "            self.state = \"after\"\n",
    "        else:\n",
    "            self.after += 1\n",
    "            self.state = \"before\""
   ]
  },
  {
   "cell_type": "code",
   "execution_count": 6,
   "metadata": {},
   "outputs": [
    {
     "name": "stdout",
     "output_type": "stream",
     "text": [
      "The computer has chosen a letter from the English alphabet... what do you think it was?\n",
      "Nope, it was something before, guess again\n",
      "Nope, it was something before, guess again\n",
      "Nope, it was something after, guess again\n",
      "Nope, it was something after, guess again\n"
     ]
    }
   ],
   "source": [
    "game = LetterGuessingGame()\n",
    "game.play()"
   ]
  },
  {
   "cell_type": "code",
   "execution_count": null,
   "metadata": {},
   "outputs": [],
   "source": [
    "# The computer has chosen a letter from the English alphabet... what do you think it was?\n",
    "# i # Nope, it was something before, guess again"
   ]
  },
  {
   "cell_type": "code",
   "execution_count": null,
   "metadata": {},
   "outputs": [],
   "source": [
    "# e\n",
    "# Nope, it was something before, guess again"
   ]
  },
  {
   "cell_type": "code",
   "execution_count": null,
   "metadata": {},
   "outputs": [],
   "source": [
    "# a\n",
    "# That was correct! You played for 5.09 seconds, and made 0 before guesses and 2 after guesses."
   ]
  },
  {
   "cell_type": "code",
   "execution_count": null,
   "metadata": {},
   "outputs": [],
   "source": [
    "# game = LetterGuessingGame()\n",
    "# game.play()"
   ]
  },
  {
   "cell_type": "code",
   "execution_count": null,
   "metadata": {},
   "outputs": [],
   "source": [
    "# The computer has chosen a letter from the English alphabet... what do you think it was?\n",
    "# ad\n",
    "# Only English alphabet letters are supported...\n",
    "\n",
    "# 12\n",
    "# Only English alphabet letters are supported..."
   ]
  },
  {
   "cell_type": "code",
   "execution_count": null,
   "metadata": {},
   "outputs": [],
   "source": [
    "\n",
    "# KeyboardInterrupt %F2 in Pycharm or control c depending on your runtime"
   ]
  },
  {
   "cell_type": "code",
   "execution_count": null,
   "metadata": {},
   "outputs": [],
   "source": [
    "# Game interrupted. You played for 5.4 seconds, and made 0 before guesses and 0 after guesses."
   ]
  },
  {
   "cell_type": "code",
   "execution_count": null,
   "metadata": {},
   "outputs": [],
   "source": [
    "\n",
    "\n",
    "#\n",
    "\n",
    "\n",
    "\n",
    "\n",
    "\n",
    "\n",
    "\n"
   ]
  },
  {
   "cell_type": "code",
   "execution_count": null,
   "metadata": {},
   "outputs": [],
   "source": []
  },
  {
   "cell_type": "code",
   "execution_count": null,
   "metadata": {},
   "outputs": [],
   "source": []
  }
 ],
 "metadata": {
  "kernelspec": {
   "display_name": "base",
   "language": "python",
   "name": "python3"
  },
  "language_info": {
   "codemirror_mode": {
    "name": "ipython",
    "version": 3
   },
   "file_extension": ".py",
   "mimetype": "text/x-python",
   "name": "python",
   "nbconvert_exporter": "python",
   "pygments_lexer": "ipython3",
   "version": "3.10.9"
  },
  "orig_nbformat": 4
 },
 "nbformat": 4,
 "nbformat_minor": 2
}
